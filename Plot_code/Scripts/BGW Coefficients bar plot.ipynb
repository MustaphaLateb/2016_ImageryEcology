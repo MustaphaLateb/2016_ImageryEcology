{
 "cells": [
  {
   "cell_type": "code",
   "execution_count": 1,
   "metadata": {
    "collapsed": true
   },
   "outputs": [],
   "source": [
    "import numpy as np\n",
    "import matplotlib\n",
    "import matplotlib.pyplot as plt\n"
   ]
  },
  {
   "cell_type": "code",
   "execution_count": 3,
   "metadata": {
    "collapsed": false
   },
   "outputs": [],
   "source": [
    "Bright = np.array([0.2043, 0.4158, 0.5524, 0.5741, 0.3124, 0.2330])\n",
    "Green = np.array([-0.1603, -0.2189, -0.4934, 0.7940, -0.0002, -0.1446])\n",
    "Wet = np.array([0.0315, 0.2021, 0.3102, 0.1954, -0.6806, -0.6109])"
   ]
  },
  {
   "cell_type": "code",
   "execution_count": 26,
   "metadata": {
    "collapsed": false
   },
   "outputs": [
    {
     "data": {
      "image/png": "[encoded data removed]",
      "text/plain": [
       "<matplotlib.figure.Figure at 0x7f0acdd13950>"
      ]
     },
     "metadata": {},
     "output_type": "display_data"
    }
   ],
   "source": [
    "%matplotlib inline\n",
    "\n",
    "n_groups = 6 # one group for each band\n",
    "\n",
    "fig, ax = plt.subplots()\n",
    "\n",
    "index = np.arange(n_groups)\n",
    "bar_width = 0.2\n",
    "\n",
    "opacity = 0.6\n",
    "\n",
    "rects1 = plt.bar(index, Bright, bar_width,\n",
    "                 alpha=opacity,\n",
    "                 color='r',\n",
    "                 edgecolor='r',\n",
    "                 label='Brightness')\n",
    "\n",
    "rects2 = plt.bar(index + bar_width, Green, bar_width,\n",
    "                 alpha=opacity,\n",
    "                 color='g',\n",
    "                 edgecolor='g',\n",
    "                 label='Greenness')\n",
    "\n",
    "rects2 = plt.bar(index + bar_width*2, Wet, bar_width,\n",
    "                 alpha=opacity,\n",
    "                 color='b',\n",
    "                 edgecolor='b',\n",
    "                 label='Wetness')\n",
    "\n",
    "plt.xlabel('TM/ETM+ Band', size=10)\n",
    "plt.ylabel('TC Coefficient', size=10)\n",
    "plt.ylim(ymax = 1, ymin = -0.8)\n",
    "plt.xticks(index + bar_width, ('Blue', 'Green', 'Red', 'NIR', 'SWIR1', 'SWIR2'), size=10)\n",
    "plt.legend()\n",
    "plt.show()"
   ]
  }
 ],
 "metadata": {
  "kernelspec": {
   "display_name": "Python 2",
   "language": "python",
   "name": "python2"
  },
  "language_info": {
   "codemirror_mode": {
    "name": "ipython",
    "version": 2
   },
   "file_extension": ".py",
   "mimetype": "text/x-python",
   "name": "python",
   "nbconvert_exporter": "python",
   "pygments_lexer": "ipython2",
   "version": "2.7.10"
  }
 },
 "nbformat": 4,
 "nbformat_minor": 0
}
